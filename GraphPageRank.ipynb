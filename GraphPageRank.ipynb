{
 "cells": [
  {
   "cell_type": "markdown",
   "id": "2193f762",
   "metadata": {},
   "source": [
    "## Analyzing Flight Interconnected Data \n",
    "### Students: \n",
    "- LE Thi Hoa - 12310380\n",
    "- TRAN Hai Linh - 12310487\n",
    "\n",
    "### The objective of this project\n",
    "- The objective of this project is to use Spark’s APIs to analyze the flight interconnected data to find which are the most popular airports. To do so, you’ll need to implement the PageRank algorithm natively on Spark SQL.\n",
    "\n",
    "### Libraries and Environment"
   ]
  },
  {
   "cell_type": "code",
   "execution_count": 1,
   "id": "fbd9a2dc",
   "metadata": {},
   "outputs": [],
   "source": [
    "from pyspark.sql import SparkSession\n",
    "from pyspark.sql.functions import lit, col\n",
    "from pyspark.sql import functions as F\n",
    "from matplotlib import pyplot as plt\n",
    "import warnings\n",
    "import numpy as np\n",
    "warnings.filterwarnings(\"ignore\")"
   ]
  },
  {
   "cell_type": "markdown",
   "id": "ca0ab430",
   "metadata": {},
   "source": [
    "### Initialize SparkSession "
   ]
  },
  {
   "cell_type": "code",
   "execution_count": 2,
   "id": "5dd5727f",
   "metadata": {},
   "outputs": [
    {
     "name": "stderr",
     "output_type": "stream",
     "text": [
      "23/11/26 18:05:08 WARN NativeCodeLoader: Unable to load native-hadoop library for your platform... using builtin-java classes where applicable\n",
      "Using Spark's default log4j profile: org/apache/spark/log4j-defaults.properties\n",
      "Setting default log level to \"WARN\".\n",
      "To adjust logging level use sc.setLogLevel(newLevel). For SparkR, use setLogLevel(newLevel).\n"
     ]
    }
   ],
   "source": [
    "# Initialize SparkSession\n",
    "spark = SparkSession.builder \\\n",
    "    .appName('Graph Processing') \\\n",
    "    .getOrCreate()"
   ]
  },
  {
   "cell_type": "markdown",
   "id": "b0c7c1f4",
   "metadata": {},
   "source": [
    "### Load the dataset and display a few rows"
   ]
  },
  {
   "cell_type": "code",
   "execution_count": 64,
   "id": "b4b2f064",
   "metadata": {},
   "outputs": [
    {
     "name": "stderr",
     "output_type": "stream",
     "text": [
      "                                                                                \r"
     ]
    }
   ],
   "source": [
    "# load dataset\n",
    "data_path = \"2018.csv\"\n",
    "df = spark.read.csv(data_path, header=True, inferSchema=True)"
   ]
  },
  {
   "cell_type": "code",
   "execution_count": 65,
   "id": "f5e7fb15",
   "metadata": {},
   "outputs": [
    {
     "name": "stdout",
     "output_type": "stream",
     "text": [
      "-RECORD 0-------------------------\n",
      " FL_DATE             | 2018-01-01 \n",
      " OP_CARRIER          | UA         \n",
      " OP_CARRIER_FL_NUM   | 2429       \n",
      " ORIGIN              | EWR        \n",
      " DEST                | DEN        \n",
      " CRS_DEP_TIME        | 1517       \n",
      " DEP_TIME            | 1512.0     \n",
      " DEP_DELAY           | -5.0       \n",
      " TAXI_OUT            | 15.0       \n",
      " WHEELS_OFF          | 1527.0     \n",
      " WHEELS_ON           | 1712.0     \n",
      " TAXI_IN             | 10.0       \n",
      " CRS_ARR_TIME        | 1745       \n",
      " ARR_TIME            | 1722.0     \n",
      " ARR_DELAY           | -23.0      \n",
      " CANCELLED           | 0.0        \n",
      " CANCELLATION_CODE   | null       \n",
      " DIVERTED            | 0.0        \n",
      " CRS_ELAPSED_TIME    | 268.0      \n",
      " ACTUAL_ELAPSED_TIME | 250.0      \n",
      " AIR_TIME            | 225.0      \n",
      " DISTANCE            | 1605.0     \n",
      " CARRIER_DELAY       | null       \n",
      " WEATHER_DELAY       | null       \n",
      " NAS_DELAY           | null       \n",
      " SECURITY_DELAY      | null       \n",
      " LATE_AIRCRAFT_DELAY | null       \n",
      " Unnamed: 27         | null       \n",
      "-RECORD 1-------------------------\n",
      " FL_DATE             | 2018-01-01 \n",
      " OP_CARRIER          | UA         \n",
      " OP_CARRIER_FL_NUM   | 2427       \n",
      " ORIGIN              | LAS        \n",
      " DEST                | SFO        \n",
      " CRS_DEP_TIME        | 1115       \n",
      " DEP_TIME            | 1107.0     \n",
      " DEP_DELAY           | -8.0       \n",
      " TAXI_OUT            | 11.0       \n",
      " WHEELS_OFF          | 1118.0     \n",
      " WHEELS_ON           | 1223.0     \n",
      " TAXI_IN             | 7.0        \n",
      " CRS_ARR_TIME        | 1254       \n",
      " ARR_TIME            | 1230.0     \n",
      " ARR_DELAY           | -24.0      \n",
      " CANCELLED           | 0.0        \n",
      " CANCELLATION_CODE   | null       \n",
      " DIVERTED            | 0.0        \n",
      " CRS_ELAPSED_TIME    | 99.0       \n",
      " ACTUAL_ELAPSED_TIME | 83.0       \n",
      " AIR_TIME            | 65.0       \n",
      " DISTANCE            | 414.0      \n",
      " CARRIER_DELAY       | null       \n",
      " WEATHER_DELAY       | null       \n",
      " NAS_DELAY           | null       \n",
      " SECURITY_DELAY      | null       \n",
      " LATE_AIRCRAFT_DELAY | null       \n",
      " Unnamed: 27         | null       \n",
      "only showing top 2 rows\n",
      "\n"
     ]
    }
   ],
   "source": [
    "# Display a few rows\n",
    "df.show(2, truncate=False, vertical=True)"
   ]
  },
  {
   "cell_type": "code",
   "execution_count": 66,
   "id": "46652522",
   "metadata": {},
   "outputs": [
    {
     "name": "stdout",
     "output_type": "stream",
     "text": [
      "root\n",
      " |-- FL_DATE: string (nullable = true)\n",
      " |-- OP_CARRIER: string (nullable = true)\n",
      " |-- OP_CARRIER_FL_NUM: integer (nullable = true)\n",
      " |-- ORIGIN: string (nullable = true)\n",
      " |-- DEST: string (nullable = true)\n",
      " |-- CRS_DEP_TIME: integer (nullable = true)\n",
      " |-- DEP_TIME: double (nullable = true)\n",
      " |-- DEP_DELAY: double (nullable = true)\n",
      " |-- TAXI_OUT: double (nullable = true)\n",
      " |-- WHEELS_OFF: double (nullable = true)\n",
      " |-- WHEELS_ON: double (nullable = true)\n",
      " |-- TAXI_IN: double (nullable = true)\n",
      " |-- CRS_ARR_TIME: integer (nullable = true)\n",
      " |-- ARR_TIME: double (nullable = true)\n",
      " |-- ARR_DELAY: double (nullable = true)\n",
      " |-- CANCELLED: double (nullable = true)\n",
      " |-- CANCELLATION_CODE: string (nullable = true)\n",
      " |-- DIVERTED: double (nullable = true)\n",
      " |-- CRS_ELAPSED_TIME: double (nullable = true)\n",
      " |-- ACTUAL_ELAPSED_TIME: double (nullable = true)\n",
      " |-- AIR_TIME: double (nullable = true)\n",
      " |-- DISTANCE: double (nullable = true)\n",
      " |-- CARRIER_DELAY: double (nullable = true)\n",
      " |-- WEATHER_DELAY: double (nullable = true)\n",
      " |-- NAS_DELAY: double (nullable = true)\n",
      " |-- SECURITY_DELAY: double (nullable = true)\n",
      " |-- LATE_AIRCRAFT_DELAY: double (nullable = true)\n",
      " |-- Unnamed: 27: string (nullable = true)\n",
      "\n"
     ]
    }
   ],
   "source": [
    "# print the schema of data\n",
    "df.printSchema()"
   ]
  },
  {
   "cell_type": "markdown",
   "id": "3279bc04",
   "metadata": {},
   "source": [
    "#### Based on the schema, here is the meaning of each column\n",
    "- **FL_DATE**: Date of the flight.\n",
    "- **OP_CARRIER**: Operating Carrier code, indicating the airline that performed the flight.\n",
    "- **OP_CARRIER_FL_NUM:** Flight number assigned by the operating carrier.\n",
    "- **ORIGIN:** Three-letter code for the origin airport.\n",
    "- **DEST:** Three-letter code for the destination airport.\n",
    "- **CRS_DEP_TIME**: Scheduled departure time.\n",
    "- **DEP_TIME:** Actual departure time.\n",
    "- **DEP_DELAY:** Difference in minutes between actual and scheduled departure times.\n",
    "- **TAXI_OUT:** Time in minutes from departure from the origin gate to wheels off.\n",
    "- **WHEELS_OFF**: Actual departure time when the aircraft wheels leave the ground.\n",
    "- **WHEELS_ON:** Actual arrival time when the aircraft wheels touch the ground.\n",
    "- **TAXI_IN:** Time in minutes from wheels-on to arrival at the destination gate.\n",
    "- **CRS_ARR_TIME:** Scheduled arrival time.\n",
    "- **ARR_TIME:** Actual arrival time.\n",
    "- **ARR_DELAY:** Difference in minutes between actual and scheduled arrival times.\n",
    "- **CANCELLED:** Indicates whether the flight was canceled (1) or not (0).\n",
    "- **CANCELLATION_CODE:** Code specifying the reason for cancellation.\n",
    "- **DIVERTED:** Indicates whether the flight was diverted to another airport (1) or not (0).\n",
    "- **CRS_ELAPSED_TIME:** Scheduled elapsed time of the flight.\n",
    "- **ACTUAL_ELAPSED_TIME:** Actual elapsed time of the flight.\n",
    "- **AIR_TIME:** Time the aircraft spends airborne.\n",
    "- **DISTANCE:** Distance between airports.\n",
    "- **CARRIER_DELAY:** Delay attributed to the carrier.\n",
    "- **WEATHER_DELAY:** Delay attributed to weather conditions.\n",
    "- **NAS_DELAY:** Delay attributed to the National Airspace System.\n",
    "- **SECURITY_DELAY:** Delay attributed to security-related issues.\n",
    "- **LATE_AIRCRAFT_DELAY**: Delay attributed to issues with the aircraft.\n",
    "- **Unnamed: 27**: An unnamed column (seems to have no specific meaning)."
   ]
  },
  {
   "cell_type": "code",
   "execution_count": 67,
   "id": "e577798e",
   "metadata": {},
   "outputs": [
    {
     "name": "stderr",
     "output_type": "stream",
     "text": [
      "[Stage 159:================================>                        (4 + 3) / 7]\r"
     ]
    },
    {
     "name": "stdout",
     "output_type": "stream",
     "text": [
      "Size of dataset: 7213446\n"
     ]
    },
    {
     "name": "stderr",
     "output_type": "stream",
     "text": [
      "                                                                                \r"
     ]
    }
   ],
   "source": [
    "num_flight = df.count()\n",
    "print(f\"Size of dataset: {num_flight}\")"
   ]
  },
  {
   "cell_type": "markdown",
   "id": "acd7fec9",
   "metadata": {},
   "source": [
    "### Preprocessing\n",
    "\n",
    "#### Check missing value"
   ]
  },
  {
   "cell_type": "code",
   "execution_count": 68,
   "id": "ac0c4332",
   "metadata": {},
   "outputs": [
    {
     "name": "stderr",
     "output_type": "stream",
     "text": [
      "                                                                                \r"
     ]
    },
    {
     "name": "stdout",
     "output_type": "stream",
     "text": [
      "Number of null values in FL_DATE column: 0 - 0.0%\n"
     ]
    },
    {
     "name": "stderr",
     "output_type": "stream",
     "text": [
      "                                                                                \r"
     ]
    },
    {
     "name": "stdout",
     "output_type": "stream",
     "text": [
      "Number of null values in OP_CARRIER column: 0 - 0.0%\n"
     ]
    },
    {
     "name": "stderr",
     "output_type": "stream",
     "text": [
      "                                                                                \r"
     ]
    },
    {
     "name": "stdout",
     "output_type": "stream",
     "text": [
      "Number of null values in OP_CARRIER_FL_NUM column: 0 - 0.0%\n"
     ]
    },
    {
     "name": "stderr",
     "output_type": "stream",
     "text": [
      "                                                                                \r"
     ]
    },
    {
     "name": "stdout",
     "output_type": "stream",
     "text": [
      "Number of null values in ORIGIN column: 0 - 0.0%\n"
     ]
    },
    {
     "name": "stderr",
     "output_type": "stream",
     "text": [
      "                                                                                \r"
     ]
    },
    {
     "name": "stdout",
     "output_type": "stream",
     "text": [
      "Number of null values in DEST column: 0 - 0.0%\n"
     ]
    },
    {
     "name": "stderr",
     "output_type": "stream",
     "text": [
      "                                                                                \r"
     ]
    },
    {
     "name": "stdout",
     "output_type": "stream",
     "text": [
      "Number of null values in CRS_DEP_TIME column: 0 - 0.0%\n"
     ]
    },
    {
     "name": "stderr",
     "output_type": "stream",
     "text": [
      "                                                                                \r"
     ]
    },
    {
     "name": "stdout",
     "output_type": "stream",
     "text": [
      "Number of null values in DEP_TIME column: 112317 - 1.56%\n"
     ]
    },
    {
     "name": "stderr",
     "output_type": "stream",
     "text": [
      "                                                                                \r"
     ]
    },
    {
     "name": "stdout",
     "output_type": "stream",
     "text": [
      "Number of null values in DEP_DELAY column: 117234 - 1.63%\n"
     ]
    },
    {
     "name": "stderr",
     "output_type": "stream",
     "text": [
      "                                                                                \r"
     ]
    },
    {
     "name": "stdout",
     "output_type": "stream",
     "text": [
      "Number of null values in TAXI_OUT column: 115830 - 1.61%\n"
     ]
    },
    {
     "name": "stderr",
     "output_type": "stream",
     "text": [
      "                                                                                \r"
     ]
    },
    {
     "name": "stdout",
     "output_type": "stream",
     "text": [
      "Number of null values in WHEELS_OFF column: 115829 - 1.61%\n"
     ]
    },
    {
     "name": "stderr",
     "output_type": "stream",
     "text": [
      "                                                                                \r"
     ]
    },
    {
     "name": "stdout",
     "output_type": "stream",
     "text": [
      "Number of null values in WHEELS_ON column: 119246 - 1.65%\n"
     ]
    },
    {
     "name": "stderr",
     "output_type": "stream",
     "text": [
      "                                                                                \r"
     ]
    },
    {
     "name": "stdout",
     "output_type": "stream",
     "text": [
      "Number of null values in TAXI_IN column: 119246 - 1.65%\n"
     ]
    },
    {
     "name": "stderr",
     "output_type": "stream",
     "text": [
      "                                                                                \r"
     ]
    },
    {
     "name": "stdout",
     "output_type": "stream",
     "text": [
      "Number of null values in CRS_ARR_TIME column: 0 - 0.0%\n"
     ]
    },
    {
     "name": "stderr",
     "output_type": "stream",
     "text": [
      "                                                                                \r"
     ]
    },
    {
     "name": "stdout",
     "output_type": "stream",
     "text": [
      "Number of null values in ARR_TIME column: 119245 - 1.65%\n"
     ]
    },
    {
     "name": "stderr",
     "output_type": "stream",
     "text": [
      "                                                                                \r"
     ]
    },
    {
     "name": "stdout",
     "output_type": "stream",
     "text": [
      "Number of null values in ARR_DELAY column: 137040 - 1.9%\n"
     ]
    },
    {
     "name": "stderr",
     "output_type": "stream",
     "text": [
      "                                                                                \r"
     ]
    },
    {
     "name": "stdout",
     "output_type": "stream",
     "text": [
      "Number of null values in CANCELLED column: 0 - 0.0%\n"
     ]
    },
    {
     "name": "stderr",
     "output_type": "stream",
     "text": [
      "                                                                                \r"
     ]
    },
    {
     "name": "stdout",
     "output_type": "stream",
     "text": [
      "Number of null values in CANCELLATION_CODE column: 7096862 - 98.38%\n"
     ]
    },
    {
     "name": "stderr",
     "output_type": "stream",
     "text": [
      "                                                                                \r"
     ]
    },
    {
     "name": "stdout",
     "output_type": "stream",
     "text": [
      "Number of null values in DIVERTED column: 0 - 0.0%\n"
     ]
    },
    {
     "name": "stderr",
     "output_type": "stream",
     "text": [
      "                                                                                \r"
     ]
    },
    {
     "name": "stdout",
     "output_type": "stream",
     "text": [
      "Number of null values in CRS_ELAPSED_TIME column: 10 - 0.0%\n"
     ]
    },
    {
     "name": "stderr",
     "output_type": "stream",
     "text": [
      "                                                                                \r"
     ]
    },
    {
     "name": "stdout",
     "output_type": "stream",
     "text": [
      "Number of null values in ACTUAL_ELAPSED_TIME column: 134442 - 1.86%\n"
     ]
    },
    {
     "name": "stderr",
     "output_type": "stream",
     "text": [
      "                                                                                \r"
     ]
    },
    {
     "name": "stdout",
     "output_type": "stream",
     "text": [
      "Number of null values in AIR_TIME column: 134442 - 1.86%\n"
     ]
    },
    {
     "name": "stderr",
     "output_type": "stream",
     "text": [
      "                                                                                \r"
     ]
    },
    {
     "name": "stdout",
     "output_type": "stream",
     "text": [
      "Number of null values in DISTANCE column: 0 - 0.0%\n"
     ]
    },
    {
     "name": "stderr",
     "output_type": "stream",
     "text": [
      "                                                                                \r"
     ]
    },
    {
     "name": "stdout",
     "output_type": "stream",
     "text": [
      "Number of null values in CARRIER_DELAY column: 5860736 - 81.25%\n"
     ]
    },
    {
     "name": "stderr",
     "output_type": "stream",
     "text": [
      "                                                                                \r"
     ]
    },
    {
     "name": "stdout",
     "output_type": "stream",
     "text": [
      "Number of null values in WEATHER_DELAY column: 5860736 - 81.25%\n"
     ]
    },
    {
     "name": "stderr",
     "output_type": "stream",
     "text": [
      "                                                                                \r"
     ]
    },
    {
     "name": "stdout",
     "output_type": "stream",
     "text": [
      "Number of null values in NAS_DELAY column: 5860736 - 81.25%\n"
     ]
    },
    {
     "name": "stderr",
     "output_type": "stream",
     "text": [
      "                                                                                \r"
     ]
    },
    {
     "name": "stdout",
     "output_type": "stream",
     "text": [
      "Number of null values in SECURITY_DELAY column: 5860736 - 81.25%\n"
     ]
    },
    {
     "name": "stderr",
     "output_type": "stream",
     "text": [
      "                                                                                \r"
     ]
    },
    {
     "name": "stdout",
     "output_type": "stream",
     "text": [
      "Number of null values in LATE_AIRCRAFT_DELAY column: 5860736 - 81.25%\n"
     ]
    },
    {
     "name": "stderr",
     "output_type": "stream",
     "text": [
      "[Stage 215:================================>                        (4 + 3) / 7]\r"
     ]
    },
    {
     "name": "stdout",
     "output_type": "stream",
     "text": [
      "Number of null values in Unnamed: 27 column: 7213446 - 100.0%\n"
     ]
    },
    {
     "name": "stderr",
     "output_type": "stream",
     "text": [
      "                                                                                \r"
     ]
    }
   ],
   "source": [
    "# list columns\n",
    "columns = df.columns\n",
    "\n",
    "# check missing value each column - calculate percentage\n",
    "for column in columns: \n",
    "    check_null = df.filter(df[column].isNull()).count()\n",
    "    print(f\"Number of null values in {column} column: {check_null} - {round((check_null/num_flight)*100, 2)}%\")"
   ]
  },
  {
   "cell_type": "markdown",
   "id": "48b62d06",
   "metadata": {},
   "source": [
    "#### Check duplicate values "
   ]
  },
  {
   "cell_type": "code",
   "execution_count": 69,
   "id": "7f2032eb",
   "metadata": {},
   "outputs": [
    {
     "name": "stderr",
     "output_type": "stream",
     "text": [
      "[Stage 218:=================================================>   (187 + 4) / 200]\r"
     ]
    },
    {
     "name": "stdout",
     "output_type": "stream",
     "text": [
      "Number of duplicate lines: 0\n"
     ]
    },
    {
     "name": "stderr",
     "output_type": "stream",
     "text": [
      "                                                                                \r"
     ]
    }
   ],
   "source": [
    "# Check and count duplicate rows\n",
    "duplicate_count = df.dropDuplicates().count()\n",
    "\n",
    "# Display\n",
    "print(f\"Number of duplicate lines: {num_flight - duplicate_count}\")"
   ]
  },
  {
   "cell_type": "markdown",
   "id": "cde9ea48",
   "metadata": {},
   "source": [
    "#### Check for canceled and diverted flights CANCELLED - DIVERTED\n",
    "\n",
    "- CANCELLED - Indicates whether the flight was canceled (1) or not (0)."
   ]
  },
  {
   "cell_type": "code",
   "execution_count": 70,
   "id": "6aeb9f63",
   "metadata": {},
   "outputs": [
    {
     "name": "stderr",
     "output_type": "stream",
     "text": [
      "[Stage 220:================================>                        (4 + 3) / 7]\r"
     ]
    },
    {
     "name": "stdout",
     "output_type": "stream",
     "text": [
      "Number of cancelled flights 116584 - 1.62%\n"
     ]
    },
    {
     "name": "stderr",
     "output_type": "stream",
     "text": [
      "                                                                                \r"
     ]
    }
   ],
   "source": [
    "cancelled = df.filter(df[\"CANCELLED\"] == 1)\n",
    "num_cancelled = cancelled.count()\n",
    "print(f\"Number of cancelled flights {num_cancelled} - {round((num_cancelled/num_flight)*100, 2)}%\")"
   ]
  },
  {
   "cell_type": "markdown",
   "id": "3a5a04f9",
   "metadata": {},
   "source": [
    "- DIVERTED: Indicates whether the flight was diverted to another airport (1) or not (0)."
   ]
  },
  {
   "cell_type": "code",
   "execution_count": 71,
   "id": "42134a23",
   "metadata": {},
   "outputs": [
    {
     "name": "stderr",
     "output_type": "stream",
     "text": [
      "[Stage 222:================================>                        (4 + 3) / 7]\r"
     ]
    },
    {
     "name": "stdout",
     "output_type": "stream",
     "text": [
      "Number of the diverted flights: 17859 - 0.25%\n"
     ]
    },
    {
     "name": "stderr",
     "output_type": "stream",
     "text": [
      "                                                                                \r"
     ]
    }
   ],
   "source": [
    "diverted = df.filter(df[\"DIVERTED\"] == 1)\n",
    "num_diverted = diverted.count()\n",
    "print(f\"Number of the diverted flights: {num_diverted} - {round((num_diverted/num_flight)*100, 2)}%\")"
   ]
  },
  {
   "cell_type": "markdown",
   "id": "5ed85252",
   "metadata": {},
   "source": [
    "### Data Cleaning\n",
    "\n",
    "- Remove the canceled flights"
   ]
  },
  {
   "cell_type": "code",
   "execution_count": 72,
   "id": "13516bfd",
   "metadata": {},
   "outputs": [
    {
     "name": "stderr",
     "output_type": "stream",
     "text": [
      "[Stage 224:========================================>                (5 + 2) / 7]\r"
     ]
    },
    {
     "name": "stdout",
     "output_type": "stream",
     "text": [
      "Total number of flights after removing canceled flights: 7096862\n"
     ]
    },
    {
     "name": "stderr",
     "output_type": "stream",
     "text": [
      "                                                                                \r"
     ]
    }
   ],
   "source": [
    "df_flight = df.filter(df[\"CANCELLED\"] == 0)\n",
    "print(f\"Total number of flights after removing canceled flights: {df_flight.count()}\")"
   ]
  },
  {
   "cell_type": "markdown",
   "id": "20e15b09",
   "metadata": {},
   "source": [
    "### Data Exploring \n",
    "\n",
    "#### top 10 airports as the most popular origins"
   ]
  },
  {
   "cell_type": "code",
   "execution_count": 75,
   "id": "e8c132f6",
   "metadata": {},
   "outputs": [
    {
     "name": "stderr",
     "output_type": "stream",
     "text": [
      "                                                                                \r"
     ]
    },
    {
     "name": "stdout",
     "output_type": "stream",
     "text": [
      "Total airport is the departure airport: 358\n"
     ]
    },
    {
     "name": "stderr",
     "output_type": "stream",
     "text": [
      "[Stage 239:========================================>                (5 + 2) / 7]\r"
     ]
    },
    {
     "name": "stdout",
     "output_type": "stream",
     "text": [
      "+------+------+\n",
      "|ORIGIN| count|\n",
      "+------+------+\n",
      "|   ATL|387502|\n",
      "|   ORD|325817|\n",
      "|   DFW|273933|\n",
      "|   DEN|234394|\n",
      "|   CLT|227278|\n",
      "|   LAX|219588|\n",
      "|   SFO|173439|\n",
      "|   PHX|172658|\n",
      "|   IAH|171994|\n",
      "|   LGA|164122|\n",
      "+------+------+\n",
      "only showing top 10 rows\n",
      "\n"
     ]
    },
    {
     "name": "stderr",
     "output_type": "stream",
     "text": [
      "                                                                                \r"
     ]
    }
   ],
   "source": [
    "origin = df_flight.groupby(\"ORIGIN\").count()\n",
    "\n",
    "# Sort by count column in descending order\n",
    "origin_sorted = origin.sort(\"count\", ascending=False)\n",
    "\n",
    "# display\n",
    "print(f\"Total airport is the departure airport: {origin_sorted.count()}\")\n",
    "origin_sorted.show(10)"
   ]
  },
  {
   "cell_type": "code",
   "execution_count": 74,
   "id": "cfc0c60d",
   "metadata": {},
   "outputs": [
    {
     "name": "stderr",
     "output_type": "stream",
     "text": [
      "                                                                                \r"
     ]
    },
    {
     "data": {
      "image/png": "[encoded data removed]",
      "text/plain": [
       "<Figure size 800x600 with 1 Axes>"
      ]
     },
     "metadata": {},
     "output_type": "display_data"
    }
   ],
   "source": [
    "# top 10 airports as the most popular origins\n",
    "top_10_origins = origin_sorted.toPandas().head(10)\n",
    "\n",
    "# Plot\n",
    "plt.figure(figsize=(8, 6))\n",
    "plt.bar(top_10_origins['ORIGIN'], top_10_origins['count'], color='skyblue')\n",
    "plt.xlabel('ORIGIN')\n",
    "plt.ylabel('Count')\n",
    "plt.title('Top 10 Busiest Airports by Origin')\n",
    "plt.show()"
   ]
  },
  {
   "cell_type": "markdown",
   "id": "04310c6f",
   "metadata": {},
   "source": [
    "#### Top 10 airports as the most popular destinations"
   ]
  },
  {
   "cell_type": "code",
   "execution_count": 77,
   "id": "93099fb0",
   "metadata": {},
   "outputs": [
    {
     "name": "stderr",
     "output_type": "stream",
     "text": [
      "                                                                                \r"
     ]
    },
    {
     "name": "stdout",
     "output_type": "stream",
     "text": [
      "Number of destinations: 358\n"
     ]
    },
    {
     "name": "stderr",
     "output_type": "stream",
     "text": [
      "[Stage 249:========================================>                (5 + 2) / 7]\r"
     ]
    },
    {
     "name": "stdout",
     "output_type": "stream",
     "text": [
      "+----+------+\n",
      "|DEST| count|\n",
      "+----+------+\n",
      "| ATL|387468|\n",
      "| ORD|325322|\n",
      "| DFW|273437|\n",
      "| DEN|234110|\n",
      "| CLT|226683|\n",
      "| LAX|219514|\n",
      "| SFO|173398|\n",
      "| PHX|172286|\n",
      "| IAH|171818|\n",
      "| LGA|164186|\n",
      "+----+------+\n",
      "only showing top 10 rows\n",
      "\n"
     ]
    },
    {
     "name": "stderr",
     "output_type": "stream",
     "text": [
      "                                                                                \r"
     ]
    }
   ],
   "source": [
    "destination = df_flight.groupby(\"DEST\").count()\n",
    "\n",
    "# Sort by count column in descending order\n",
    "destination_sorted = destination.sort(\"count\", ascending=False)\n",
    "print(f\"Number of destinations: {destination_sorted.count()}\")\n",
    "\n",
    "# display\n",
    "destination_sorted.show(10)"
   ]
  },
  {
   "cell_type": "code",
   "execution_count": 78,
   "id": "3bbed26f",
   "metadata": {},
   "outputs": [
    {
     "name": "stderr",
     "output_type": "stream",
     "text": [
      "                                                                                \r"
     ]
    },
    {
     "data": {
      "image/png": "[encoded data removed]",
      "text/plain": [
       "<Figure size 800x600 with 1 Axes>"
      ]
     },
     "metadata": {},
     "output_type": "display_data"
    }
   ],
   "source": [
    "# Get the top 10 airports as the most popular destinations\n",
    "top_10_destinations = destination_sorted.toPandas().head(10)\n",
    "\n",
    "# Plot \n",
    "plt.figure(figsize=(8, 6))\n",
    "plt.bar(top_10_destinations['DEST'], top_10_destinations['count'], color='skyblue')\n",
    "plt.xlabel('DESTINATION')\n",
    "plt.ylabel('Count')\n",
    "plt.title('Top 10 Destination')\n",
    "plt.show()"
   ]
  },
  {
   "cell_type": "markdown",
   "id": "fe547337",
   "metadata": {},
   "source": [
    "### Encode the dataset as a graph\n",
    "- What are the vertices? What are the edges? How do you compute the weight?\n",
    "    - **Vertices**: The vertices in this problem are the airports. Each airport is represented by a vertex in the graph.\n",
    "    - **Edges:** The edges represent the routes between airports. If there is a direct flight from airport A to airport B, then there is an edge connecting A to B.\n",
    "    - **Weight**: The weight of an edge (connection between two airports) can be computed as the total number of flights or the frequency of flights between those two airports. For example, if there were 100 flights from airport A to airport B in a given time period, the weight of the edge between A and B would be 100."
   ]
  },
  {
   "cell_type": "markdown",
   "id": "ca3e57b0",
   "metadata": {},
   "source": [
    "#### Vertices\n",
    "- The vertices in this problem are the airports. Each airport is represented by a vertex in the graph.\n",
    "\n",
    "- **Solution:**\n",
    "    - Extracts unique airport codes from both the \"ORIGIN\" and \"DEST\" columns in the DataFrame (df_flight). \n",
    "    - The airports are collected into a set to remove duplicates\n",
    "    - Then sorted to create a list of all unique vertices (airports) in the graph."
   ]
  },
  {
   "cell_type": "code",
   "execution_count": 79,
   "id": "a9d65994",
   "metadata": {},
   "outputs": [
    {
     "name": "stderr",
     "output_type": "stream",
     "text": [
      "[Stage 257:=================================================>   (187 + 4) / 200]\r"
     ]
    },
    {
     "name": "stdout",
     "output_type": "stream",
     "text": [
      "Number of vertices in the graph: 358\n",
      "+-------------+\n",
      "|VERTEX_SOURCE|\n",
      "+-------------+\n",
      "|          ABE|\n",
      "|          ABI|\n",
      "|          ABQ|\n",
      "|          ABR|\n",
      "|          ABY|\n",
      "|          ACK|\n",
      "|          ACT|\n",
      "|          ACV|\n",
      "|          ACY|\n",
      "|          ADK|\n",
      "|          ADQ|\n",
      "|          AEX|\n",
      "|          AGS|\n",
      "|          AKN|\n",
      "|          ALB|\n",
      "|          ALO|\n",
      "|          AMA|\n",
      "|          ANC|\n",
      "|          APN|\n",
      "|          ART|\n",
      "+-------------+\n",
      "only showing top 20 rows\n",
      "\n"
     ]
    },
    {
     "name": "stderr",
     "output_type": "stream",
     "text": [
      "                                                                                \r"
     ]
    }
   ],
   "source": [
    "# Get a list of all vertices in the graph\n",
    "all_airports = sorted(set(df_flight.select(\"ORIGIN\").union(df_flight.select(\"DEST\")).distinct().rdd.flatMap(lambda x: x).collect()))\n",
    "\n",
    "# Calculate the number of vertices in the graph\n",
    "num_vertices = len(all_airports)\n",
    "print(f\"Number of vertices in the graph: {num_vertices}\")\n",
    "\n",
    "# Create a DataFrame containing vertex information\n",
    "vertices_df = spark.createDataFrame([(vertex,) for vertex in all_airports], [\"VERTEX_SOURCE\"])\n",
    "vertices_df.show()"
   ]
  },
  {
   "cell_type": "markdown",
   "id": "e26be7fb",
   "metadata": {},
   "source": [
    "#### Edges - Weight\n",
    "- **Edges:** The edges represent the routes between airports. If there is a direct flight from airport A to airport B, then there is an edge connecting A to B.\n",
    "- **Weight**: The weight of an edge (connection between two airports) can be computed as the total number of flights or the frequency of flights between those two airports. For example, if there were 100 flights from airport A to airport B in a given time period, the weight of the edge between A and B would be 100.\n",
    "\n",
    "**Solution:**\n",
    "\n",
    "- Group by pair ORIGIN and DEST, and calculate the total number of flights\n",
    "- Renames the count column to \"weight\""
   ]
  },
  {
   "cell_type": "code",
   "execution_count": 80,
   "id": "9fbf4e3a",
   "metadata": {},
   "outputs": [
    {
     "name": "stderr",
     "output_type": "stream",
     "text": [
      "[Stage 259:================================================>        (6 + 1) / 7]\r"
     ]
    },
    {
     "name": "stdout",
     "output_type": "stream",
     "text": [
      "+------+----+------+\n",
      "|ORIGIN|DEST|weight|\n",
      "+------+----+------+\n",
      "|   ORD| PDX|  2738|\n",
      "|   FSD| ATL|   308|\n",
      "|   ATL| GSP|  3756|\n",
      "|   BQN| MCO|   556|\n",
      "|   PBI| DCA|  1082|\n",
      "|   PHL| MCO|  5124|\n",
      "|   TPA| ACY|   362|\n",
      "|   STS| PHX|   371|\n",
      "|   SPI| ORD|   980|\n",
      "|   LAS| LIT|   365|\n",
      "|   MCI| MKE|   603|\n",
      "|   MDW| MEM|   679|\n",
      "|   SMF| BUR|  2801|\n",
      "|   SNA| PHX|  4090|\n",
      "|   MCI| IAH|  1721|\n",
      "|   DSM| EWR|   265|\n",
      "|   DSM| MCO|   124|\n",
      "|   SJC| LIH|   287|\n",
      "|   PIE| AVP|     1|\n",
      "|   PBG| PGD|    26|\n",
      "+------+----+------+\n",
      "only showing top 20 rows\n",
      "\n"
     ]
    },
    {
     "name": "stderr",
     "output_type": "stream",
     "text": [
      "                                                                                \r"
     ]
    }
   ],
   "source": [
    "# Groupby pair ORIGIN and DEST, and calculate the total number of flights\n",
    "edges_df = df_flight.groupBy(\"ORIGIN\", \"DEST\").count()\n",
    "edges_df = edges_df.withColumnRenamed(\"count\", \"weight\")\n",
    "\n",
    "# Display a DataFrame with edges and flight numbers - weight\n",
    "edges_df.show()"
   ]
  },
  {
   "cell_type": "markdown",
   "id": "e5856f60",
   "metadata": {},
   "source": [
    "### Implement the PageRank algorithm \n",
    "- Implement the PageRank algorithm natively\n",
    "\n",
    "**Solution**\n",
    "\n",
    "- It starts by calculating the total number of edges coming out of each vertex (outDegree)\n",
    "- Constructing an adjacency matrix\n",
    "- Normalizing it to a probability matrix\n",
    "- Then iteratively calculating PageRank values until convergence\n",
    "\n",
    "**The damping factor** is a parameter used in the PageRank algorithm to model the probability that a user will continue clicking on links rather than jumping to a new page. It introduces a level of randomness to the model, simulating the behavior of a web surfer who, with a certain probability, might decide to navigate to a random page instead of following links.\n",
    "\n",
    "- In the context of the PageRank algorithm, the damping factor is typically denoted by the symbol d. The standard value for d is often set to 0.85, but it can vary depending on the specific application. The remaining probability, 1−d, is distributed evenly among all the nodes in the graph, reflecting the surfer's chance of jumping to any page at random.\n",
    "\n",
    "- Here's how the damping factor is incorporated into the PageRank formula:"
   ]
  },
  {
   "cell_type": "markdown",
   "id": "5444b6b1",
   "metadata": {},
   "source": [
    "$$PageRank(A) = \\frac{1-d}{N} + d \\times \\left(\\frac{PageRank(B)}{L(B)} + \\frac{PageRank(C)}{L(C)} + \\ldots\\right)$$\n",
    "\n",
    "- In there: \n",
    "    - PageRank(A) is the PageRank of page A.\n",
    "    - N is the total number of nodes in the graph.\n",
    "    - d is the damping factor.\n",
    "    - PageRank(B),PageRank(C),… are the PageRanks of pages that link to page A.\n",
    "    - L(B),L(C),… are the number of outbound links on pages B, C, etc.\n"
   ]
  },
  {
   "cell_type": "markdown",
   "id": "45403e69",
   "metadata": {},
   "source": [
    "#### i. Calculate the total number of edges coming out of each vertex (outDegree)\n",
    "- The outDegree is calculated for each airport, representing the total number of flights leaving each airport.\n",
    "\n",
    "-  This helps quantify the level of \"power\" of each vertex in transmitting its rank score to other vertices.\n",
    "\n",
    "**Solution**\n",
    "- Calculates the outDegree by grouping the edges_df DataFrame by \"ORIGIN\" \n",
    "- Aggregating the sum of weights (flights) for each origin airport."
   ]
  },
  {
   "cell_type": "code",
   "execution_count": 81,
   "id": "4ea70231",
   "metadata": {},
   "outputs": [
    {
     "name": "stderr",
     "output_type": "stream",
     "text": [
      "[Stage 261:========================================>                (5 + 2) / 7]\r"
     ]
    },
    {
     "name": "stdout",
     "output_type": "stream",
     "text": [
      "+------+----------+\n",
      "|ORIGIN|out_degree|\n",
      "+------+----------+\n",
      "|   ABE|      4081|\n",
      "|   ABI|      1981|\n",
      "|   ABQ|     23809|\n",
      "|   ABR|       737|\n",
      "|   ABY|      1007|\n",
      "|   ACK|       937|\n",
      "|   ACT|      1534|\n",
      "|   ACV|      1429|\n",
      "|   ACY|      3248|\n",
      "|   ADK|       101|\n",
      "|   ADQ|       618|\n",
      "|   AEX|      3355|\n",
      "|   AGS|      4455|\n",
      "|   AKN|        63|\n",
      "|   ALB|     12097|\n",
      "|   ALO|       655|\n",
      "|   AMA|      5262|\n",
      "|   ANC|     18282|\n",
      "|   APN|       608|\n",
      "|   ART|        24|\n",
      "+------+----------+\n",
      "only showing top 20 rows\n",
      "\n"
     ]
    },
    {
     "name": "stderr",
     "output_type": "stream",
     "text": [
      "                                                                                \r"
     ]
    }
   ],
   "source": [
    "# Calculate the total number of edges coming out of each vertex (outDegree)\n",
    "out_degree = (\n",
    "    edges_df\n",
    "    .groupBy(\"ORIGIN\")\n",
    "    .agg(F.sum(\"weight\").alias(\"out_degree\"))\n",
    ").orderBy(\"ORIGIN\")\n",
    "\n",
    "\n",
    "# Display outDegree\n",
    "out_degree.show()"
   ]
  },
  {
   "cell_type": "markdown",
   "id": "bea68b17",
   "metadata": {},
   "source": [
    "#### ii. Build adjacency matrix from DataFrame\n",
    "\n",
    "- Adjacency matrix - representing the connections (flights) between each pair of airport\n",
    "**Solution:** \n",
    "- It does a cross join on the vertices_df to create all possible combinations of source and destination airports. \n",
    "- Then joins with the edges_df to get the weights (flight counts) for each airport pair\n",
    "- The result is a DataFrame (adjacency_matrix) with airports as rows, airports as columns, and flight counts as values."
   ]
  },
  {
   "cell_type": "code",
   "execution_count": 82,
   "id": "c15f8aba",
   "metadata": {},
   "outputs": [],
   "source": [
    "# Build adjacency matrix from DataFrame\n",
    "adjacency_matrix = (\n",
    "    vertices_df\n",
    "    .crossJoin(vertices_df.withColumnRenamed(\"VERTEX_SOURCE\", \"VERTEX_DEST\"))\n",
    "    .join(edges_df, (F.col(\"VERTEX_SOURCE\") == F.col(\"ORIGIN\")) & (F.col(\"VERTEX_DEST\") == F.col(\"DEST\")), \"left_outer\")\n",
    "    .groupBy(\"VERTEX_SOURCE\")\n",
    "    .pivot(\"VERTEX_DEST\", all_airports)\n",
    "    .agg(F.coalesce(F.sum(\"weight\"), F.lit(0)))\n",
    "    .na.fill(0)\n",
    ").orderBy(\"VERTEX_SOURCE\")\n",
    "\n",
    "# display adjacency matrix\n",
    "#adjacency_matrix.show()\n"
   ]
  },
  {
   "cell_type": "markdown",
   "id": "002aa8f4",
   "metadata": {},
   "source": [
    "#### iii. Normalizing it to a probability matrix\n",
    "- Convert adjacency matrix from DataFrame to NumPy array\n",
    "- The adjacency matrix is normalized to create a probability matrix. \n",
    "- Each element in the matrix is divided by the corresponding outDegree to convert the counts into probabilities."
   ]
  },
  {
   "cell_type": "code",
   "execution_count": 83,
   "id": "647dd309",
   "metadata": {},
   "outputs": [
    {
     "name": "stderr",
     "output_type": "stream",
     "text": [
      "                                                                                \r"
     ]
    },
    {
     "name": "stdout",
     "output_type": "stream",
     "text": [
      "{'ABE': '4081', 'ABI': '1981', 'ABQ': '23809', 'ABR': '737', 'ABY': '1007', 'ACK': '937', 'ACT': '1534', 'ACV': '1429', 'ACY': '3248', 'ADK': '101', 'ADQ': '618', 'AEX': '3355', 'AGS': '4455', 'AKN': '63', 'ALB': '12097', 'ALO': '655', 'AMA': '5262', 'ANC': '18282', 'APN': '608', 'ART': '24', 'ASE': '6407', 'ATL': '387502', 'ATW': '4131', 'AUS': '62650', 'AVL': '7512', 'AVP': '3253', 'AZA': '5215', 'AZO': '2724', 'BDL': '27664', 'BET': '810', 'BFF': '570', 'BFL': '2301', 'BGM': '909', 'BGR': '3913', 'BHM': '17973', 'BIL': '4129', 'BIS': '3611', 'BJI': '737', 'BKG': '69', 'BLI': '2208', 'BLV': '1011', 'BMI': '3082', 'BNA': '73182', 'BOI': '19108', 'BOS': '144347', 'BPT': '818', 'BQK': '1028', 'BQN': '1942', 'BRD': '626', 'BRO': '2526', 'BRW': '714', 'BTM': '676', 'BTR': '7451', 'BTV': '9343', 'BUF': '25577', 'BUR': '26128', 'BWI': '104419', 'BZN': '5812', 'CAE': '6653', 'CAK': '7302', 'CDC': '621', 'CDV': '716', 'CGI': '603', 'CHA': '8370', 'CHO': '5372', 'CHS': '23042', 'CID': '9050', 'CIU': '658', 'CKB': '788', 'CLE': '47398', 'CLL': '2259', 'CLT': '227278', 'CMH': '44860', 'CMI': '2276', 'CMX': '690', 'CNY': '417', 'COD': '812', 'COS': '10194', 'COU': '2168', 'CPR': '982', 'CRP': '5412', 'CRW': '4497', 'CSG': '1263', 'CVG': '48634', 'CWA': '2778', 'CYS': '57', 'DAB': '3494', 'DAL': '69986', 'DAY': '13663', 'DBQ': '957', 'DCA': '128655', 'DEN': '234394', 'DFW': '273933', 'DHN': '1366', 'DLG': '81', 'DLH': '2745', 'DRO': '3057', 'DRT': '113', 'DSM': '15367', 'DTW': '155985', 'DVL': '600', 'EAR': '199', 'EAU': '697', 'ECP': '5382', 'EGE': '2091', 'EKO': '643', 'ELM': '332', 'ELP': '16806', 'ERI': '1009', 'ESC': '613', 'EUG': '4082', 'EVV': '4510', 'EWN': '2075', 'EWR': '139245', 'EYW': '4698', 'FAI': '4418', 'FAR': '5648', 'FAT': '11046', 'FAY': '3760', 'FCA': '2369', 'FLG': '1162', 'FLL': '96530', 'FLO': '167', 'FNT': '4074', 'FSD': '6206', 'FSM': '2015', 'FWA': '6980', 'GCC': '822', 'GCK': '707', 'GEG': '12290', 'GFK': '2075', 'GGG': '774', 'GJT': '3718', 'GNV': '4416', 'GPT': '4159', 'GRB': '4719', 'GRI': '980', 'GRK': '2928', 'GRR': '17005', 'GSO': '12562', 'GSP': '13333', 'GST': '82', 'GTF': '1850', 'GTR': '1015', 'GUC': '226', 'GUM': '616', 'HDN': '906', 'HGR': '138', 'HHH': '505', 'HIB': '616', 'HLN': '1806', 'HNL': '49107', 'HOB': '674', 'HOU': '56963', 'HPN': '9529', 'HRL': '3402', 'HSV': '8443', 'HTS': '843', 'HVN': '922', 'HYA': '88', 'HYS': '1055', 'IAD': '67625', 'IAG': '799', 'IAH': '171994', 'ICT': '10396', 'IDA': '2162', 'IFP': '45', 'ILM': '6274', 'IMT': '644', 'IND': '48108', 'INL': '639', 'ISN': '1368', 'ISP': '5954', 'ITH': '978', 'ITO': '6210', 'JAC': '4173', 'JAN': '7581', 'JAX': '30796', 'JFK': '126248', 'JLN': '783', 'JMS': '942', 'JNU': '4373', 'KOA': '14943', 'KTN': '2407', 'LAN': '3451', 'LAR': '618', 'LAS': '159989', 'LAW': '1295', 'LAX': '219588', 'LBB': '6261', 'LBE': '1076', 'LBF': '562', 'LBL': '555', 'LCH': '1903', 'LCK': '1073', 'LEX': '9900', 'LFT': '4460', 'LGA': '164122', 'LGB': '16700', 'LIH': '14141', 'LIT': '13062', 'LNK': '1758', 'LRD': '2388', 'LSE': '2080', 'LWB': '564', 'LWS': '716', 'LYH': '1017', 'MAF': '8612', 'MBS': '2795', 'MCI': '55374', 'MCO': '136839', 'MDT': '6133', 'MDW': '85075', 'MEI': '1073', 'MEM': '22660', 'MFE': '4484', 'MFR': '4621', 'MGM': '4045', 'MHK': '1777', 'MHT': '9389', 'MIA': '86959', 'MKE': '31985', 'MKG': '681', 'MLB': '2425', 'MLI': '4947', 'MLU': '3044', 'MMH': '135', 'MOB': '6408', 'MOT': '2516', 'MQT': '1298', 'MRY': '3848', 'MSN': '12919', 'MSO': '3414', 'MSP': '157739', 'MSY': '55221', 'MTJ': '1461', 'MVY': '482', 'MYR': '11232', 'OAJ': '2964', 'OAK': '52072', 'OGD': '125', 'OGG': '25309', 'OGS': '126', 'OKC': '22965', 'OMA': '24638', 'OME': '691', 'ONT': '21121', 'ORD': '325817', 'ORF': '21941', 'ORH': '924', 'OTH': '357', 'OTZ': '693', 'OWB': '107', 'PAH': '688', 'PBG': '946', 'PBI': '24641', 'PDX': '62697', 'PGD': '5201', 'PGV': '827', 'PHF': '2565', 'PHL': '113723', 'PHX': '172658', 'PIA': '5223', 'PIB': '710', 'PIE': '7440', 'PIH': '1261', 'PIT': '48157', 'PLN': '986', 'PNS': '11185', 'PPG': '122', 'PRC': '235', 'PSC': '2850', 'PSE': '779', 'PSG': '714', 'PSM': '297', 'PSP': '10533', 'PUB': '894', 'PVD': '18180', 'PVU': '540', 'PWM': '11643', 'RAP': '4188', 'RDD': '1136', 'RDM': '3731', 'RDU': '59012', 'RFD': '667', 'RHI': '712', 'RIC': '22587', 'RKS': '673', 'RNO': '17990', 'ROA': '2396', 'ROC': '13928', 'ROW': '1340', 'RST': '3161', 'RSW': '31923', 'SAF': '1382', 'SAN': '89838', 'SAT': '39191', 'SAV': '15421', 'SBA': '6986', 'SBN': '6841', 'SBP': '4772', 'SCC': '923', 'SCE': '1338', 'SCK': '741', 'SDF': '22436', 'SEA': '139344', 'SFB': '9539', 'SFO': '173439', 'SGF': '8439', 'SGU': '3245', 'SHD': '645', 'SHV': '6576', 'SIT': '1322', 'SJC': '54135', 'SJT': '1399', 'SJU': '24332', 'SLC': '112714', 'SLN': '680', 'SMF': '46812', 'SMX': '170', 'SNA': '41362', 'SPI': '1761', 'SPN': '250', 'SPS': '1019', 'SRQ': '6250', 'STC': '144', 'STL': '65219', 'STS': '1470', 'STT': '2525', 'STX': '1121', 'SUN': '1154', 'SUX': '1150', 'SWF': '1750', 'SWO': '779', 'SYR': '13381', 'TLH': '5980', 'TOL': '2013', 'TPA': '73713', 'TRI': '3022', 'TTN': '2515', 'TUL': '16733', 'TUS': '18082', 'TVC': '3831', 'TWF': '1268', 'TXK': '1179', 'TYR': '1378', 'TYS': '15685', 'UIN': '866', 'USA': '979', 'VEL': '316', 'VLD': '1030', 'VPS': '7670', 'WRG': '716', 'WYS': '239', 'XNA': '12323', 'YAK': '712', 'YNG': '2', 'YUM': '1376'}\n"
     ]
    }
   ],
   "source": [
    "# Convert adjacency matrix from DataFrame to NumPy array\n",
    "adjacency_matrix_np = np.array(adjacency_matrix.select(all_airports).collect())\n",
    "\n",
    "# Normalize the matrix to get the probability matrix\n",
    "out_degree_np = np.array(out_degree.select(\"ORIGIN\", \"out_degree\").collect())\n",
    "out_degree_dict = dict(zip(out_degree_np[:, 0], out_degree_np[:, 1]))\n",
    "adjacency_matrix_np_normalized = adjacency_matrix_np / (out_degree_np[:, 1][:, np.newaxis]).astype(\"float\")\n",
    "\n",
    "print(out_degree_dict)"
   ]
  },
  {
   "cell_type": "markdown",
   "id": "0d205b2e",
   "metadata": {},
   "source": [
    "#### iv. iteratively calculating PageRank values until convergence\n",
    "- The initial PageRank values for all vertices are set. All vertices are given equal initial importance.\n",
    "- Iteratively calculates the PageRank values for each airport. \n",
    "- It uses the PageRank formula, considering the normalized adjacency matrix and damping factor. \n",
    "- The loop continues until convergence (change in PageRank values is below a tolerance level), or until the specified number of iterations is reached."
   ]
  },
  {
   "cell_type": "code",
   "execution_count": 84,
   "id": "d2cf549a",
   "metadata": {},
   "outputs": [
    {
     "name": "stdout",
     "output_type": "stream",
     "text": [
      "Converged after 20 iterations.\n",
      "ABE - PageRank: 0.00103\n",
      "ABI - PageRank: 0.00067\n",
      "ABQ - PageRank: 0.00292\n",
      "ABR - PageRank: 0.00051\n",
      "ABY - PageRank: 0.00053\n",
      "ACK - PageRank: 0.00051\n",
      "ACT - PageRank: 0.00061\n",
      "ACV - PageRank: 0.00056\n",
      "ACY - PageRank: 0.00076\n",
      "ADK - PageRank: 0.00045\n",
      "ADQ - PageRank: 0.00063\n",
      "AEX - PageRank: 0.00079\n",
      "AGS - PageRank: 0.0009\n",
      "AKN - PageRank: 0.00044\n",
      "ALB - PageRank: 0.00166\n",
      "ALO - PageRank: 0.00049\n",
      "AMA - PageRank: 0.001\n",
      "ANC - PageRank: 0.0072\n",
      "APN - PageRank: 0.00061\n",
      "ART - PageRank: 0.00042\n",
      "ASE - PageRank: 0.00117\n",
      "ATL - PageRank: 0.04811\n",
      "ATW - PageRank: 0.00097\n",
      "AUS - PageRank: 0.00699\n",
      "AVL - PageRank: 0.00136\n",
      "AVP - PageRank: 0.00077\n",
      "AZA - PageRank: 0.00243\n",
      "AZO - PageRank: 0.00074\n",
      "BDL - PageRank: 0.00327\n",
      "BET - PageRank: 0.00069\n",
      "BFF - PageRank: 0.00049\n",
      "BFL - PageRank: 0.00067\n",
      "BGM - PageRank: 0.00052\n",
      "BGR - PageRank: 0.00087\n",
      "BHM - PageRank: 0.0023\n",
      "BIL - PageRank: 0.00096\n",
      "BIS - PageRank: 0.00092\n",
      "BJI - PageRank: 0.00051\n",
      "BKG - PageRank: 0.00043\n",
      "BLI - PageRank: 0.0007\n",
      "BLV - PageRank: 0.00065\n",
      "BMI - PageRank: 0.00082\n",
      "BNA - PageRank: 0.00795\n",
      "BOI - PageRank: 0.00256\n",
      "BOS - PageRank: 0.0151\n",
      "BPT - PageRank: 0.00052\n",
      "BQK - PageRank: 0.00053\n",
      "BQN - PageRank: 0.00061\n",
      "BRD - PageRank: 0.0005\n",
      "BRO - PageRank: 0.00071\n",
      "BRW - PageRank: 0.0009\n",
      "BTM - PageRank: 0.00051\n",
      "BTR - PageRank: 0.00125\n",
      "BTV - PageRank: 0.00137\n",
      "BUF - PageRank: 0.00296\n",
      "BUR - PageRank: 0.00307\n",
      "BWI - PageRank: 0.01119\n",
      "BZN - PageRank: 0.00113\n",
      "CAE - PageRank: 0.00113\n",
      "CAK - PageRank: 0.00118\n",
      "CDC - PageRank: 0.0005\n",
      "CDV - PageRank: 0.00098\n",
      "CGI - PageRank: 0.00067\n",
      "CHA - PageRank: 0.00137\n",
      "CHO - PageRank: 0.00099\n",
      "CHS - PageRank: 0.00277\n",
      "CID - PageRank: 0.00159\n",
      "CIU - PageRank: 0.0005\n",
      "CKB - PageRank: 0.00053\n",
      "CLE - PageRank: 0.00533\n",
      "CLL - PageRank: 0.00068\n",
      "CLT - PageRank: 0.02904\n",
      "CMH - PageRank: 0.00499\n",
      "CMI - PageRank: 0.00068\n",
      "CMX - PageRank: 0.0005\n",
      "CNY - PageRank: 0.00047\n",
      "COD - PageRank: 0.00052\n",
      "COS - PageRank: 0.00157\n",
      "COU - PageRank: 0.00068\n",
      "CPR - PageRank: 0.00054\n",
      "CRP - PageRank: 0.00102\n",
      "CRW - PageRank: 0.00089\n",
      "CSG - PageRank: 0.00055\n",
      "CVG - PageRank: 0.00573\n",
      "CWA - PageRank: 0.00075\n",
      "CYS - PageRank: 0.00043\n",
      "DAB - PageRank: 0.00079\n",
      "DAL - PageRank: 0.00761\n",
      "DAY - PageRank: 0.00195\n",
      "DBQ - PageRank: 0.00053\n",
      "DCA - PageRank: 0.01409\n",
      "DEN - PageRank: 0.0329\n",
      "DFW - PageRank: 0.04012\n",
      "DHN - PageRank: 0.00056\n",
      "DLG - PageRank: 0.00045\n",
      "DLH - PageRank: 0.00075\n",
      "DRO - PageRank: 0.00078\n",
      "DRT - PageRank: 0.00043\n",
      "DSM - PageRank: 0.00224\n",
      "DTW - PageRank: 0.02115\n",
      "DVL - PageRank: 0.00093\n",
      "EAR - PageRank: 0.00044\n",
      "EAU - PageRank: 0.0005\n",
      "ECP - PageRank: 0.00097\n",
      "EGE - PageRank: 0.00066\n",
      "EKO - PageRank: 0.0005\n",
      "ELM - PageRank: 0.00052\n",
      "ELP - PageRank: 0.00221\n",
      "ERI - PageRank: 0.00054\n",
      "ESC - PageRank: 0.00049\n",
      "EUG - PageRank: 0.00088\n",
      "EVV - PageRank: 0.00096\n",
      "EWN - PageRank: 0.00064\n",
      "EWR - PageRank: 0.01514\n",
      "EYW - PageRank: 0.0009\n",
      "FAI - PageRank: 0.00173\n",
      "FAR - PageRank: 0.00117\n",
      "FAT - PageRank: 0.0016\n",
      "FAY - PageRank: 0.00082\n",
      "FCA - PageRank: 0.0007\n",
      "FLG - PageRank: 0.00054\n",
      "FLL - PageRank: 0.01125\n",
      "FLO - PageRank: 0.00044\n",
      "FNT - PageRank: 0.00098\n",
      "FSD - PageRank: 0.00125\n",
      "FSM - PageRank: 0.00066\n",
      "FWA - PageRank: 0.00132\n",
      "GCC - PageRank: 0.00052\n",
      "GCK - PageRank: 0.00051\n",
      "GEG - PageRank: 0.0018\n",
      "GFK - PageRank: 0.0007\n",
      "GGG - PageRank: 0.00052\n",
      "GJT - PageRank: 0.00086\n",
      "GNV - PageRank: 0.00088\n",
      "GPT - PageRank: 0.0009\n",
      "GRB - PageRank: 0.00096\n",
      "GRI - PageRank: 0.00057\n",
      "GRK - PageRank: 0.00077\n",
      "GRR - PageRank: 0.00247\n",
      "GSO - PageRank: 0.00178\n",
      "GSP - PageRank: 0.00189\n",
      "GST - PageRank: 0.00047\n",
      "GTF - PageRank: 0.00068\n",
      "GTR - PageRank: 0.00053\n",
      "GUC - PageRank: 0.00045\n",
      "GUM - PageRank: 0.00116\n",
      "HDN - PageRank: 0.00052\n",
      "HGR - PageRank: 0.00047\n",
      "HHH - PageRank: 0.00047\n",
      "HIB - PageRank: 0.0005\n",
      "HLN - PageRank: 0.00065\n",
      "HNL - PageRank: 0.00709\n",
      "HOB - PageRank: 0.00049\n",
      "HOU - PageRank: 0.00639\n",
      "HPN - PageRank: 0.00141\n",
      "HRL - PageRank: 0.00076\n",
      "HSV - PageRank: 0.00134\n",
      "HTS - PageRank: 0.00059\n",
      "HVN - PageRank: 0.00051\n",
      "HYA - PageRank: 0.00043\n",
      "HYS - PageRank: 0.00093\n",
      "IAD - PageRank: 0.00807\n",
      "IAG - PageRank: 0.0006\n",
      "IAH - PageRank: 0.02128\n",
      "ICT - PageRank: 0.00163\n",
      "IDA - PageRank: 0.00073\n",
      "IFP - PageRank: 0.00042\n",
      "ILM - PageRank: 0.00108\n",
      "IMT - PageRank: 0.0005\n",
      "IND - PageRank: 0.00558\n",
      "INL - PageRank: 0.0005\n",
      "ISN - PageRank: 0.00059\n",
      "ISP - PageRank: 0.001\n",
      "ITH - PageRank: 0.00053\n",
      "ITO - PageRank: 0.00119\n",
      "JAC - PageRank: 0.00091\n",
      "JAN - PageRank: 0.00126\n",
      "JAX - PageRank: 0.00362\n",
      "JFK - PageRank: 0.01432\n",
      "JLN - PageRank: 0.00052\n",
      "JMS - PageRank: 0.00095\n",
      "JNU - PageRank: 0.0029\n",
      "KOA - PageRank: 0.00211\n",
      "KTN - PageRank: 0.00145\n",
      "LAN - PageRank: 0.00082\n",
      "LAR - PageRank: 0.00049\n",
      "LAS - PageRank: 0.01838\n",
      "LAW - PageRank: 0.00058\n",
      "LAX - PageRank: 0.02461\n",
      "LBB - PageRank: 0.00109\n",
      "LBE - PageRank: 0.00054\n",
      "LBF - PageRank: 0.00049\n",
      "LBL - PageRank: 0.00065\n",
      "LCH - PageRank: 0.00064\n",
      "LCK - PageRank: 0.00065\n",
      "LEX - PageRank: 0.00163\n",
      "LFT - PageRank: 0.00092\n",
      "LGA - PageRank: 0.01789\n",
      "LGB - PageRank: 0.00215\n",
      "LIH - PageRank: 0.00203\n",
      "LIT - PageRank: 0.00187\n",
      "LNK - PageRank: 0.00063\n",
      "LRD - PageRank: 0.00069\n",
      "LSE - PageRank: 0.00067\n",
      "LWB - PageRank: 0.00061\n",
      "LWS - PageRank: 0.00051\n",
      "LYH - PageRank: 0.00053\n",
      "MAF - PageRank: 0.00134\n",
      "MBS - PageRank: 0.00074\n",
      "MCI - PageRank: 0.00623\n",
      "MCO - PageRank: 0.0152\n",
      "MDT - PageRank: 0.0012\n",
      "MDW - PageRank: 0.00909\n",
      "MEI - PageRank: 0.00112\n",
      "MEM - PageRank: 0.00286\n",
      "MFE - PageRank: 0.00095\n",
      "MFR - PageRank: 0.00092\n",
      "MGM - PageRank: 0.00086\n",
      "MHK - PageRank: 0.00063\n",
      "MHT - PageRank: 0.00133\n",
      "MIA - PageRank: 0.00976\n",
      "MKE - PageRank: 0.00383\n",
      "MKG - PageRank: 0.0005\n",
      "MLB - PageRank: 0.00068\n",
      "MLI - PageRank: 0.00107\n",
      "MLU - PageRank: 0.00076\n",
      "MMH - PageRank: 0.00043\n",
      "MOB - PageRank: 0.00112\n",
      "MOT - PageRank: 0.00077\n",
      "MQT - PageRank: 0.00057\n",
      "MRY - PageRank: 0.0008\n",
      "MSN - PageRank: 0.00186\n",
      "MSO - PageRank: 0.00087\n",
      "MSP - PageRank: 0.02315\n",
      "MSY - PageRank: 0.00609\n",
      "MTJ - PageRank: 0.00059\n",
      "MVY - PageRank: 0.00046\n",
      "MYR - PageRank: 0.00198\n",
      "OAJ - PageRank: 0.00074\n",
      "OAK - PageRank: 0.0059\n",
      "OGD - PageRank: 0.00046\n",
      "OGG - PageRank: 0.00333\n",
      "OGS - PageRank: 0.00046\n",
      "OKC - PageRank: 0.00295\n",
      "OMA - PageRank: 0.00313\n",
      "OME - PageRank: 0.0008\n",
      "ONT - PageRank: 0.00262\n",
      "ORD - PageRank: 0.04303\n",
      "ORF - PageRank: 0.00269\n",
      "ORH - PageRank: 0.00051\n",
      "OTH - PageRank: 0.00046\n",
      "OTZ - PageRank: 0.00069\n",
      "OWB - PageRank: 0.00046\n",
      "PAH - PageRank: 0.0005\n",
      "PBG - PageRank: 0.00059\n",
      "PBI - PageRank: 0.00298\n",
      "PDX - PageRank: 0.0073\n",
      "PGD - PageRank: 0.00183\n",
      "PGV - PageRank: 0.00051\n",
      "PHF - PageRank: 0.00069\n",
      "PHL - PageRank: 0.01306\n",
      "PHX - PageRank: 0.02063\n",
      "PIA - PageRank: 0.00113\n",
      "PIB - PageRank: 0.00078\n",
      "PIE - PageRank: 0.00255\n",
      "PIH - PageRank: 0.00058\n",
      "PIT - PageRank: 0.00543\n",
      "PLN - PageRank: 0.00072\n",
      "PNS - PageRank: 0.00161\n",
      "PPG - PageRank: 0.00043\n",
      "PRC - PageRank: 0.00044\n",
      "PSC - PageRank: 0.00079\n",
      "PSE - PageRank: 0.00049\n",
      "PSG - PageRank: 0.00107\n",
      "PSM - PageRank: 0.00051\n",
      "PSP - PageRank: 0.0016\n",
      "PUB - PageRank: 0.00077\n",
      "PVD - PageRank: 0.00226\n",
      "PVU - PageRank: 0.0006\n",
      "PWM - PageRank: 0.00157\n",
      "RAP - PageRank: 0.00097\n",
      "RDD - PageRank: 0.00053\n",
      "RDM - PageRank: 0.00082\n",
      "RDU - PageRank: 0.00645\n",
      "RFD - PageRank: 0.00062\n",
      "RHI - PageRank: 0.00051\n",
      "RIC - PageRank: 0.0028\n",
      "RKS - PageRank: 0.0005\n",
      "RNO - PageRank: 0.0023\n",
      "ROA - PageRank: 0.00072\n",
      "ROC - PageRank: 0.00187\n",
      "ROW - PageRank: 0.00058\n",
      "RST - PageRank: 0.00079\n",
      "RSW - PageRank: 0.00379\n",
      "SAF - PageRank: 0.00058\n",
      "SAN - PageRank: 0.00987\n",
      "SAT - PageRank: 0.00454\n",
      "SAV - PageRank: 0.00206\n",
      "SBA - PageRank: 0.00115\n",
      "SBN - PageRank: 0.0013\n",
      "SBP - PageRank: 0.00091\n",
      "SCC - PageRank: 0.00073\n",
      "SCE - PageRank: 0.00057\n",
      "SCK - PageRank: 0.00052\n",
      "SDF - PageRank: 0.00287\n",
      "SEA - PageRank: 0.01862\n",
      "SFB - PageRank: 0.00386\n",
      "SFO - PageRank: 0.02069\n",
      "SGF - PageRank: 0.00149\n",
      "SGU - PageRank: 0.0008\n",
      "SHD - PageRank: 0.00062\n",
      "SHV - PageRank: 0.00116\n",
      "SIT - PageRank: 0.00105\n",
      "SJC - PageRank: 0.00604\n",
      "SJT - PageRank: 0.00059\n",
      "SJU - PageRank: 0.00304\n",
      "SLC - PageRank: 0.0171\n",
      "SLN - PageRank: 0.00078\n",
      "SMF - PageRank: 0.00532\n",
      "SMX - PageRank: 0.00044\n",
      "SNA - PageRank: 0.00481\n",
      "SPI - PageRank: 0.00065\n",
      "SPN - PageRank: 0.00082\n",
      "SPS - PageRank: 0.00055\n",
      "SRQ - PageRank: 0.00106\n",
      "STC - PageRank: 0.00047\n",
      "STL - PageRank: 0.00714\n",
      "STS - PageRank: 0.00057\n",
      "STT - PageRank: 0.00067\n",
      "STX - PageRank: 0.00053\n",
      "SUN - PageRank: 0.00058\n",
      "SUX - PageRank: 0.00055\n",
      "SWF - PageRank: 0.00067\n",
      "SWO - PageRank: 0.00052\n",
      "SYR - PageRank: 0.00185\n",
      "TLH - PageRank: 0.00105\n",
      "TOL - PageRank: 0.00071\n",
      "TPA - PageRank: 0.00804\n",
      "TRI - PageRank: 0.00078\n",
      "TTN - PageRank: 0.00069\n",
      "TUL - PageRank: 0.00229\n",
      "TUS - PageRank: 0.00238\n",
      "TVC - PageRank: 0.00086\n",
      "TWF - PageRank: 0.00057\n",
      "TXK - PageRank: 0.00057\n",
      "TYR - PageRank: 0.00059\n",
      "TYS - PageRank: 0.00229\n",
      "UIN - PageRank: 0.00077\n",
      "USA - PageRank: 0.00064\n",
      "VEL - PageRank: 0.00046\n",
      "VLD - PageRank: 0.00053\n",
      "VPS - PageRank: 0.00139\n",
      "WRG - PageRank: 0.00106\n",
      "WYS - PageRank: 0.00045\n",
      "XNA - PageRank: 0.00182\n",
      "YAK - PageRank: 0.00104\n",
      "YNG - PageRank: 0.00042\n",
      "YUM - PageRank: 0.00056\n"
     ]
    }
   ],
   "source": [
    "#Initialize the initial pagerank value\n",
    "ranks_np = np.ones(num_vertices) / num_vertices\n",
    "\n",
    "# damping factor\n",
    "damping_factor_np = 0.85\n",
    "\n",
    "# Number of iterations\n",
    "num_iterations_np = 100\n",
    "\n",
    "# Convergence threshold\n",
    "tolerance = 1e-6\n",
    "\n",
    "# Loop to calculate PageRank\n",
    "for i in range(num_iterations_np):\n",
    "    # Calculate the total pagerank * weight for each target vertex\n",
    "    contributions_np = np.dot(adjacency_matrix_np_normalized.T, ranks_np)\n",
    "    \n",
    "    # Calculate new pagerank based on PageRank formula\n",
    "    new_ranks_np = (1 - damping_factor_np) / num_vertices + damping_factor_np * contributions_np\n",
    "\n",
    "    # Check for convergence\n",
    "    if np.linalg.norm(new_ranks_np - ranks_np, 2) < tolerance:\n",
    "        print(f\"Converged after {i+1} iterations.\")\n",
    "        break\n",
    "\n",
    "    ranks_np = new_ranks_np\n",
    "\n",
    "# Display results\n",
    "for vertex, rank in zip(all_airports, ranks_np):\n",
    "    print(f\"{vertex} - PageRank: {round(rank, 5)}\")"
   ]
  },
  {
   "cell_type": "markdown",
   "id": "e5aecdb7",
   "metadata": {},
   "source": [
    "### Visualization\n",
    "- Select a subset of airports with high PageRank to display.\n",
    "- Use networkx library to create graphs and matplotlib to draw graphs."
   ]
  },
  {
   "cell_type": "code",
   "execution_count": 85,
   "id": "3504d4be",
   "metadata": {},
   "outputs": [
    {
     "name": "stderr",
     "output_type": "stream",
     "text": [
      "                                                                                \r"
     ]
    },
    {
     "data": {
      "image/png": "[encoded data removed]",
      "text/plain": [
       "<Figure size 800x600 with 1 Axes>"
      ]
     },
     "metadata": {},
     "output_type": "display_data"
    }
   ],
   "source": [
    "import networkx as nx\n",
    "import matplotlib.pyplot as plt\n",
    "import pandas as pd\n",
    "\n",
    "\n",
    "# Convert Spark DataFrame to Pandas DataFrame\n",
    "edges_pd = edges_df.toPandas()\n",
    "\n",
    "# Choose a subset of airports to visualize (for example, the top 10 by PageRank)\n",
    "top_airports = pd.DataFrame({'Airport': all_airports, 'PageRank': ranks_np}).nlargest(10, 'PageRank')['Airport']\n",
    "\n",
    "# Create a subgraph with only the selected airports and their connections\n",
    "subgraph_df = edges_pd[edges_pd['ORIGIN'].isin(top_airports) & edges_pd['DEST'].isin(top_airports)]\n",
    "subgraph = nx.from_pandas_edgelist(subgraph_df, 'ORIGIN', 'DEST', ['weight'])\n",
    "\n",
    "# Create a layout for the graph\n",
    "layout = nx.spring_layout(subgraph)\n",
    "\n",
    "# Draw the graph\n",
    "plt.figure(figsize=(8, 6))\n",
    "nx.draw(subgraph, pos=layout, with_labels=True, node_size=500, \n",
    "        node_color='skyblue', font_size=10, font_color='black', font_weight='bold', \n",
    "        edge_color='gray', linewidths=1, alpha=0.7)\n",
    "\n",
    "# Annotate nodes with their PageRank values\n",
    "for airport in top_airports:\n",
    "    plt.annotate(f'PageRank: {ranks_np[all_airports.index(airport)]:.4f}', \n",
    "                 xy=layout[airport], xytext=(layout[airport][0], layout[airport][1] + 0.03), \n",
    "                 ha='center', fontsize=8, color='black')\n",
    "\n",
    "plt.title('Airport Graph Visualization with PageRank')\n",
    "plt.show()\n"
   ]
  },
  {
   "cell_type": "code",
   "execution_count": null,
   "id": "ff21a24d",
   "metadata": {},
   "outputs": [],
   "source": []
  }
 ],
 "metadata": {
  "kernelspec": {
   "display_name": "Python 3 (ipykernel)",
   "language": "python",
   "name": "python3"
  },
  "language_info": {
   "codemirror_mode": {
    "name": "ipython",
    "version": 3
   },
   "file_extension": ".py",
   "mimetype": "text/x-python",
   "name": "python",
   "nbconvert_exporter": "python",
   "pygments_lexer": "ipython3",
   "version": "3.9.2"
  }
 },
 "nbformat": 4,
 "nbformat_minor": 5
}
